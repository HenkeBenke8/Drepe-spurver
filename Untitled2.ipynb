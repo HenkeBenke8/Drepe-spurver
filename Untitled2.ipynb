{
 "cells": [
  {
   "cell_type": "markdown",
   "metadata": {},
   "source": [
    "# Skyte spurv med kanoner #\n",
    "### Av Jose, Henrik, Elijah og Benjamin"
   ]
  },
  {
   "cell_type": "markdown",
   "metadata": {},
   "source": [
    "Dette er programmet vi brukte, først så definerer vi funksjonene og den deriverte til funksjonen.\n",
    "Deretter definerer vi Newtonsmetode og bruker den til og finne nullpunktet ved forskjellige vinkler.\n",
    "Etter det lager vi en liste med vinklene fra oppgaven og deretter lager en løkke som kjører programmet med den vinkelen, etter det finner den ut hvilken som gir den største lengden."
   ]
  },
  {
   "cell_type": "code",
   "execution_count": null,
   "metadata": {
    "collapsed": true
   },
   "outputs": [],
   "source": [
    "import pylab as pl\n",
    "import pandas as pd\n",
    "\n",
    "def f(x,v):\n",
    "    return 6*pl.sin(v)*x-1/2*9.81*x**2\n",
    "\n",
    "def l(x,v):\n",
    "    return 6*pl.cos(v)*x\n",
    "\n",
    "\n",
    "def der(f,x,v):\n",
    "    h = 10E-8\n",
    "    return 6*pl.sin(v)-9.81*x\n",
    "    #return (f(x+h)-f(x))/h\n",
    "\n",
    "a=1\n",
    "c=a\n",
    "\n",
    "def NewtonsMetode(f,der,a,v):\n",
    "    i=0\n",
    "    tol = 1E-15\n",
    "    while i < 1000:\n",
    "        if abs(f(a,v))> tol:\n",
    "            i+=1\n",
    "            c = a - f(a,v)/der(f,a,v)\n",
    "            a = c\n",
    "        else:\n",
    "            return c\n",
    "            break    \n",
    "\n",
    "v = [pl.pi/6,pl.pi/5,pl.pi/4,pl.pi/3]\n",
    "tid = []\n",
    "lengder = []\n",
    "svinkel = 0\n",
    "stid = 0\n",
    "slengde = 0\n",
    "\n",
    "\n",
    "for vinkel in v:\n",
    "    vinkel = float(vinkel)\n",
    "    tid.append(NewtonsMetode(f,der,a,vinkel))\n",
    "    lengder.append(l(NewtonsMetode(f,der,a,vinkel),vinkel))\n",
    "    if slengde < l(NewtonsMetode(f,der,a,vinkel),vinkel):\n",
    "        slengde = l(NewtonsMetode(f,der,a,vinkel),vinkel)\n",
    "        stid = NewtonsMetode(f,der,a,vinkel)\n",
    "        svinkel = 180*vinkel/pl.pi\n",
    "        \n",
    "print(\"Det maksimale lengden er\", slengde, \",den optimale vinkelen er\", svinkel, \" grader og tiden skuddet tar er\", stid, \"sekunder.\")\n",
    "\n",
    "df = pd.DataFrame()\n",
    "sa = pd.Series(v)\n",
    "sb = pd.Series(tid)\n",
    "sc = pd.Series(lengder)\n",
    "\n",
    "df['Vinkel'] = sa.values\n",
    "df['Tid'] = sb.values\n",
    "df['Lengde']= sc.values\n",
    "\n",
    "print(df)"
   ]
  },
  {
   "cell_type": "markdown",
   "metadata": {},
   "source": [
    "Da vi gjorde målinger med kanonen, fant vi ut at den målte avstanden var lenger enn den avstanden som programmet ga oss. I gjennomsnitt rundt 7% lenger. Noen feilkilder som kan forklare dette kan være at vi målte feil avstande eller vinkel, men også at vi ikke har regnet med luftmotstand."
   ]
  }
 ],
 "metadata": {
  "kernelspec": {
   "display_name": "Python 3",
   "language": "python",
   "name": "python3"
  },
  "language_info": {
   "codemirror_mode": {
    "name": "ipython",
    "version": 3
   },
   "file_extension": ".py",
   "mimetype": "text/x-python",
   "name": "python",
   "nbconvert_exporter": "python",
   "pygments_lexer": "ipython3",
   "version": "3.7.0"
  }
 },
 "nbformat": 4,
 "nbformat_minor": 2
}
